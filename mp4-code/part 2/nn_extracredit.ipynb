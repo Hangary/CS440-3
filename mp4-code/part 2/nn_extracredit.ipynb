{
 "cells": [
  {
   "cell_type": "code",
   "execution_count": 1,
   "metadata": {},
   "outputs": [],
   "source": [
    "import numpy as np\n",
    "import torch\n",
    "import torch.nn as nn\n",
    "import matplotlib.pyplot as plt\n",
    "import torch.utils.data as utils"
   ]
  },
  {
   "cell_type": "code",
   "execution_count": 2,
   "metadata": {},
   "outputs": [],
   "source": [
    "import torch\n",
    "import torch.nn as nn\n",
    "from torch.autograd import Variable\n",
    "import torch.nn.functional as F\n",
    "from torch import optim\n",
    "import numpy as np\n",
    "\n",
    "NUM_CLASSES = 10\n",
    "\n",
    "class Classifier(nn.Module):\n",
    "    def __init__(self):\n",
    "        super(Classifier, self).__init__()\n",
    "        self.pool = nn.MaxPool2d(2, 2)\n",
    "        self.conv1 = nn.Conv2d(1, 16, kernel_size=(5,5), stride=1, padding=2)\n",
    "        self.bn1 = nn.BatchNorm2d(16)\n",
    "        self.conv2 = nn.Conv2d(16, 32, kernel_size=(5,5), stride=1, padding=2)\n",
    "        self.bn2 = nn.BatchNorm2d(32)\n",
    "        self.conv3 = nn.Conv2d(32, 64, kernel_size=(5,5), stride=1, padding=2)\n",
    "        self.bn3 = nn.BatchNorm2d(64)\n",
    "        self.fc1 = nn.Linear(3*3*64, 50)\n",
    "        self.fc2 = nn.Linear(50,NUM_CLASSES)\n",
    "\n",
    "    def forward(self, x):\n",
    "        x = self.conv1(x)\n",
    "        x = self.bn1(x)\n",
    "        x = F.relu(x)\n",
    "        x = self.pool(x)\n",
    "        x = self.conv2(x)\n",
    "        x = self.bn2(x)\n",
    "        x = F.relu(x)\n",
    "        x = self.pool(x)\n",
    "        x = self.conv3(x)\n",
    "        x = self.bn3(x)\n",
    "        x = F.relu(x)\n",
    "        x = self.pool(x)\n",
    "        x = x.reshape(x.size(0), -1)\n",
    "        x = self.fc1(x)\n",
    "        x = F.relu(x)\n",
    "        x = self.fc2(x)\n",
    "        return x\n"
   ]
  },
  {
   "cell_type": "code",
   "execution_count": 3,
   "metadata": {},
   "outputs": [],
   "source": [
    "import numpy as np\n",
    "import matplotlib.pyplot as plt\n",
    "from sklearn.metrics import confusion_matrix\n",
    "from sklearn.utils.multiclass import unique_labels\n",
    "\n",
    "\n",
    "def plot_confusion_matrix(y_true, y_pred, classes,\n",
    "                          normalize=False,\n",
    "                          title=None,\n",
    "                          cmap=plt.cm.Blues):\n",
    "    \"\"\"\n",
    "    This function prints and plots the confusion matrix.\n",
    "    Normalization can be applied by setting `normalize=True`.\n",
    "    \"\"\"\n",
    "    if not title:\n",
    "        if normalize:\n",
    "            title = 'Normalized confusion matrix'\n",
    "        else:\n",
    "            title = 'Confusion matrix, without normalization'\n",
    "\n",
    "    # Compute confusion matrix\n",
    "    cm = confusion_matrix(y_true, y_pred)\n",
    "    # Only use the labels that appear in the data\n",
    "    classes = classes[unique_labels(y_true, y_pred)]\n",
    "    if normalize:\n",
    "        cm = cm.astype('float') / cm.sum(axis=1)[:, np.newaxis]\n",
    "        print(\"Normalized confusion matrix\")\n",
    "    else:\n",
    "        print('Confusion matrix, without normalization')\n",
    "\n",
    "    print(cm)\n",
    "\n",
    "    fig, ax = plt.subplots()\n",
    "    im = ax.imshow(cm, interpolation='nearest', cmap=cmap)\n",
    "    ax.figure.colorbar(im, ax=ax)\n",
    "    # We want to show all ticks...\n",
    "    ax.set(xticks=np.arange(cm.shape[1]),\n",
    "           yticks=np.arange(cm.shape[0]),\n",
    "           # ... and label them with the respective list entries\n",
    "           xticklabels=classes, yticklabels=classes,\n",
    "           title=title,\n",
    "           ylabel='True label',\n",
    "           xlabel='Predicted label')\n",
    "\n",
    "    # Rotate the tick labels and set their alignment.\n",
    "    plt.setp(ax.get_xticklabels(), rotation=45, ha=\"right\",\n",
    "             rotation_mode=\"anchor\")\n",
    "\n",
    "    # Loop over data dimensions and create text annotations.\n",
    "    fmt = '.2f' if normalize else 'd'\n",
    "    thresh = cm.max() / 2.\n",
    "    for i in range(cm.shape[0]):\n",
    "        for j in range(cm.shape[1]):\n",
    "            ax.text(j, i, format(cm[i, j], fmt),\n",
    "                    ha=\"center\", va=\"center\",\n",
    "                    color=\"white\" if cm[i, j] > thresh else \"black\")\n",
    "    fig.tight_layout()\n",
    "    return ax\n",
    "\n",
    "\n",
    "\n"
   ]
  },
  {
   "cell_type": "code",
   "execution_count": 4,
   "metadata": {},
   "outputs": [],
   "source": [
    "x_train = np.load(\"data/x_train.npy\")\n",
    "x_train = (x_train - np.mean(x_train, axis=0)) / np.std(x_train, axis=0)\n",
    "y_train = np.load(\"data/y_train.npy\")\n",
    "\n",
    "x_test = np.load(\"data/x_test.npy\")\n",
    "x_test = (x_test - np.mean(x_test, axis=0))/np.std(x_test, axis=0)\n",
    "y_test = np.load(\"data/y_test.npy\")"
   ]
  },
  {
   "cell_type": "code",
   "execution_count": 5,
   "metadata": {},
   "outputs": [],
   "source": [
    "x_train = torch.tensor(x_train, dtype=torch.float64).reshape(-1,1,28,28).float()\n",
    "y_train = torch.tensor(y_train,dtype=torch.long)"
   ]
  },
  {
   "cell_type": "code",
   "execution_count": 6,
   "metadata": {},
   "outputs": [],
   "source": [
    "device = torch.device(\"cuda:0\" if torch.cuda.is_available() else \"cpu\")"
   ]
  },
  {
   "cell_type": "code",
   "execution_count": 7,
   "metadata": {},
   "outputs": [],
   "source": [
    "my_dataset = utils.TensorDataset(x_train,y_train) # create your datset\n",
    "train_loader = utils.DataLoader(my_dataset,batch_size=50,shuffle=True)"
   ]
  },
  {
   "cell_type": "code",
   "execution_count": 8,
   "metadata": {},
   "outputs": [],
   "source": [
    "x_test = torch.tensor(x_test, dtype=torch.float64).reshape(-1,1,28,28).float()\n",
    "y_test = torch.tensor(y_test,dtype=torch.long)"
   ]
  },
  {
   "cell_type": "code",
   "execution_count": 9,
   "metadata": {},
   "outputs": [],
   "source": [
    "my_test = utils.TensorDataset(x_test,y_test) \n",
    "test_loader = utils.DataLoader(my_test,batch_size=50,shuffle=False)"
   ]
  },
  {
   "cell_type": "code",
   "execution_count": 10,
   "metadata": {},
   "outputs": [],
   "source": [
    "def train_classifier(train_loader, classifier, criterion, optimizer):\n",
    "    classifier.train()\n",
    "    loss_ = 0.0\n",
    "    losses = []\n",
    "    i=0\n",
    "    for i, (images, labels) in enumerate(train_loader):\n",
    "        images = images.to(device)\n",
    "        labels = labels.to(device)\n",
    "        logits = classifier(images)\n",
    "        loss = criterion(logits, labels)\n",
    "        loss.backward()\n",
    "        optimizer.step()\n",
    "        losses.append(loss)\n",
    "    return torch.stack(losses).mean().item()\n"
   ]
  },
  {
   "cell_type": "code",
   "execution_count": 20,
   "metadata": {},
   "outputs": [],
   "source": [
    "classifier = Classifier().to(device)"
   ]
  },
  {
   "cell_type": "code",
   "execution_count": 21,
   "metadata": {},
   "outputs": [],
   "source": [
    "criterion = nn.CrossEntropyLoss()\n",
    "optimizer = torch.optim.Adam(classifier.parameters(), lr=1e-4)"
   ]
  },
  {
   "cell_type": "code",
   "execution_count": 22,
   "metadata": {},
   "outputs": [],
   "source": [
    "losses = []"
   ]
  },
  {
   "cell_type": "code",
   "execution_count": 23,
   "metadata": {},
   "outputs": [
    {
     "name": "stdout",
     "output_type": "stream",
     "text": [
      "Starting epoch number 1\n",
      "Loss for Training on Epoch 1 is 0.9617705345153809\n",
      "Starting epoch number 2\n",
      "Loss for Training on Epoch 2 is 0.6094292402267456\n",
      "Starting epoch number 3\n",
      "Loss for Training on Epoch 3 is 0.5031692981719971\n",
      "Starting epoch number 4\n",
      "Loss for Training on Epoch 4 is 0.4357430338859558\n",
      "Starting epoch number 5\n",
      "Loss for Training on Epoch 5 is 0.40386763215065\n",
      "Starting epoch number 6\n",
      "Loss for Training on Epoch 6 is 0.3768238425254822\n",
      "Starting epoch number 7\n",
      "Loss for Training on Epoch 7 is 0.36086505651474\n",
      "Starting epoch number 8\n",
      "Loss for Training on Epoch 8 is 0.35158437490463257\n",
      "Starting epoch number 9\n",
      "Loss for Training on Epoch 9 is 0.34147921204566956\n",
      "Starting epoch number 10\n",
      "Loss for Training on Epoch 10 is 0.3303171992301941\n",
      "Starting epoch number 11\n",
      "Loss for Training on Epoch 11 is 0.3203467130661011\n",
      "Starting epoch number 12\n",
      "Loss for Training on Epoch 12 is 0.31899455189704895\n",
      "Starting epoch number 13\n",
      "Loss for Training on Epoch 13 is 0.31220144033432007\n",
      "Starting epoch number 14\n",
      "Loss for Training on Epoch 14 is 0.30799347162246704\n",
      "Starting epoch number 15\n",
      "Loss for Training on Epoch 15 is 0.3042314648628235\n",
      "Starting epoch number 16\n",
      "Loss for Training on Epoch 16 is 0.2995576858520508\n",
      "Starting epoch number 17\n",
      "Loss for Training on Epoch 17 is 0.2929859161376953\n",
      "Starting epoch number 18\n",
      "Loss for Training on Epoch 18 is 0.29162895679473877\n",
      "Starting epoch number 19\n",
      "Loss for Training on Epoch 19 is 0.29390034079551697\n",
      "Starting epoch number 20\n",
      "Loss for Training on Epoch 20 is 0.28407835960388184\n",
      "Starting epoch number 21\n",
      "Loss for Training on Epoch 21 is 0.2827392816543579\n",
      "Starting epoch number 22\n",
      "Loss for Training on Epoch 22 is 0.2890975773334503\n",
      "Starting epoch number 23\n",
      "Loss for Training on Epoch 23 is 0.28637203574180603\n",
      "Starting epoch number 24\n",
      "Loss for Training on Epoch 24 is 0.27619144320487976\n",
      "Starting epoch number 25\n",
      "Loss for Training on Epoch 25 is 0.27135807275772095\n",
      "Starting epoch number 26\n",
      "Loss for Training on Epoch 26 is 0.27121734619140625\n",
      "Starting epoch number 27\n",
      "Loss for Training on Epoch 27 is 0.26935744285583496\n",
      "Starting epoch number 28\n",
      "Loss for Training on Epoch 28 is 0.2634936571121216\n",
      "Starting epoch number 29\n",
      "Loss for Training on Epoch 29 is 0.2573566436767578\n",
      "Starting epoch number 30\n",
      "Loss for Training on Epoch 30 is 0.25946930050849915\n",
      "Starting epoch number 31\n",
      "Loss for Training on Epoch 31 is 0.25325942039489746\n",
      "Starting epoch number 32\n",
      "Loss for Training on Epoch 32 is 0.25399908423423767\n",
      "Starting epoch number 33\n",
      "Loss for Training on Epoch 33 is 0.2551194131374359\n",
      "Starting epoch number 34\n",
      "Loss for Training on Epoch 34 is 0.2530949115753174\n",
      "Starting epoch number 35\n",
      "Loss for Training on Epoch 35 is 0.24816425144672394\n",
      "Starting epoch number 36\n",
      "Loss for Training on Epoch 36 is 0.24822646379470825\n",
      "Starting epoch number 37\n",
      "Loss for Training on Epoch 37 is 0.2542630136013031\n",
      "Starting epoch number 38\n",
      "Loss for Training on Epoch 38 is 0.24988502264022827\n",
      "Starting epoch number 39\n",
      "Loss for Training on Epoch 39 is 0.24418674409389496\n",
      "Starting epoch number 40\n",
      "Loss for Training on Epoch 40 is 0.2437814176082611\n"
     ]
    }
   ],
   "source": [
    "NUM_EPOCHS = 40\n",
    "for epoch in range(1, NUM_EPOCHS+1):\n",
    "    print(\"Starting epoch number \" + str(epoch))\n",
    "    train_loss = train_classifier(train_loader, classifier, criterion, optimizer)\n",
    "    losses.append(train_loss)\n",
    "    print(\"Loss for Training on Epoch \" +str(epoch) + \" is \"+ str(train_loss))"
   ]
  },
  {
   "cell_type": "code",
   "execution_count": 29,
   "metadata": {},
   "outputs": [
    {
     "data": {
      "image/png": "[encoded data removed]",
      "text/plain": [
       "<Figure size 432x288 with 1 Axes>"
      ]
     },
     "metadata": {},
     "output_type": "display_data"
    }
   ],
   "source": [
    "epoch_count = range(1, len(losses) + 1)\n",
    "plt.plot(epoch_count, losses, 'b')\n",
    "plt.xlabel('Epoch')\n",
    "plt.ylabel('Loss')\n",
    "plt.show()"
   ]
  },
  {
   "cell_type": "code",
   "execution_count": 30,
   "metadata": {},
   "outputs": [],
   "source": [
    "classifier.eval()\n",
    "class_rate_per_class = [0.0] * 10\n",
    "yy = np.zeros(10)\n",
    "result = np.zeros(len(y_test))\n",
    "y_true = np.zeros(len(y_test))\n",
    "with torch.no_grad():\n",
    "    right = 0\n",
    "    to = 0\n",
    "    for images, labels in test_loader:\n",
    "        images = images.to(device)\n",
    "        labels = labels.to(device)\n",
    "        logits = classifier(images)\n",
    "        _, predicted = torch.max(logits.data, 1)\n",
    "        for i in range(predicted.size(0)):\n",
    "            result[i+to] = predicted[i] \n",
    "            y_true[i+to] = labels[i]\n",
    "            if int(predicted[i]) == int(labels[i]):\n",
    "                class_rate_per_class[int(labels[i])] += 1\n",
    "                right += 1\n",
    "            yy[int(labels[i])] += 1\n",
    "        to += labels.size(0)\n",
    "    avg_class_rate = right*1.0/to\n",
    "    class_rate_per_class = class_rate_per_class/yy"
   ]
  },
  {
   "cell_type": "code",
   "execution_count": 31,
   "metadata": {},
   "outputs": [
    {
     "data": {
      "text/plain": [
       "0.8924"
      ]
     },
     "execution_count": 31,
     "metadata": {},
     "output_type": "execute_result"
    }
   ],
   "source": [
    "avg_class_rate"
   ]
  },
  {
   "cell_type": "code",
   "execution_count": 32,
   "metadata": {},
   "outputs": [
    {
     "data": {
      "text/plain": [
       "array([0.845, 0.988, 0.842, 0.892, 0.853, 0.955, 0.665, 0.972, 0.977,\n",
       "       0.935])"
      ]
     },
     "execution_count": 32,
     "metadata": {},
     "output_type": "execute_result"
    }
   ],
   "source": [
    "class_rate_per_class"
   ]
  },
  {
   "cell_type": "code",
   "execution_count": 33,
   "metadata": {},
   "outputs": [
    {
     "name": "stdout",
     "output_type": "stream",
     "text": [
      "Normalized confusion matrix\n",
      "[[0.845 0.    0.023 0.025 0.003 0.    0.098 0.    0.006 0.   ]\n",
      " [0.    0.988 0.    0.01  0.    0.001 0.    0.    0.001 0.   ]\n",
      " [0.01  0.001 0.842 0.011 0.075 0.001 0.055 0.    0.005 0.   ]\n",
      " [0.013 0.028 0.008 0.892 0.035 0.    0.022 0.001 0.001 0.   ]\n",
      " [0.001 0.002 0.059 0.033 0.853 0.    0.048 0.    0.004 0.   ]\n",
      " [0.    0.    0.    0.    0.    0.955 0.001 0.029 0.002 0.013]\n",
      " [0.127 0.002 0.074 0.033 0.091 0.    0.665 0.    0.008 0.   ]\n",
      " [0.    0.    0.    0.    0.    0.011 0.    0.972 0.002 0.015]\n",
      " [0.002 0.004 0.    0.001 0.006 0.002 0.007 0.001 0.977 0.   ]\n",
      " [0.    0.    0.    0.    0.    0.005 0.    0.059 0.001 0.935]]\n"
     ]
    },
    {
     "data": {
      "image/png": "[encoded data removed]",
      "text/plain": [
       "<Figure size 432x288 with 2 Axes>"
      ]
     },
     "metadata": {},
     "output_type": "display_data"
    }
   ],
   "source": [
    "plot_confusion_matrix(y_true.astype(int), result.astype(int), classes=np.array([i for i in range(11)]), normalize=True,\n",
    "                title='Confusion matrix, with normalization')\n",
    "plt.savefig('confusion.png')"
   ]
  },
  {
   "cell_type": "code",
   "execution_count": null,
   "metadata": {},
   "outputs": [],
   "source": []
  }
 ],
 "metadata": {
  "kernelspec": {
   "display_name": "Python 3",
   "language": "python",
   "name": "python3"
  },
  "language_info": {
   "codemirror_mode": {
    "name": "ipython",
    "version": 3
   },
   "file_extension": ".py",
   "mimetype": "text/x-python",
   "name": "python",
   "nbconvert_exporter": "python",
   "pygments_lexer": "ipython3",
   "version": "3.5.3"
  }
 },
 "nbformat": 4,
 "nbformat_minor": 2
}
